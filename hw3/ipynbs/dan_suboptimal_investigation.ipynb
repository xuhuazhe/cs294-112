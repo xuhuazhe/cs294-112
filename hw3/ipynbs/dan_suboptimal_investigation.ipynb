{
 "cells": [
  {
   "cell_type": "code",
   "execution_count": 11,
   "metadata": {},
   "outputs": [],
   "source": [
    "path=\"/data1/yang/data/link_data_rl/frozen_dqn_v7_gamma0_9_False_0.1/model_1200000.ckpt\"\n",
    "meta_path=\"/data1/yang/data/link_data_rl/frozen_dqn_v7_gamma0_9_False_0.1/model_1200000.ckpt.meta\"\n",
    "import tensorflow as tf\n",
    "import os\n",
    "os.environ['CUDA_VISIBLE_DEVICES'] = \"0\""
   ]
  },
  {
   "cell_type": "code",
   "execution_count": 7,
   "metadata": {},
   "outputs": [],
   "source": [
    "def get_session():\n",
    "    tf.reset_default_graph()\n",
    "    tf_config = tf.ConfigProto(\n",
    "        inter_op_parallelism_threads=1,\n",
    "        intra_op_parallelism_threads=1)\n",
    "    tf_config.gpu_options.allow_growth = True\n",
    "    session = tf.Session(config=tf_config)\n",
    "    return session"
   ]
  },
  {
   "cell_type": "code",
   "execution_count": 12,
   "metadata": {},
   "outputs": [],
   "source": [
    "session = get_session()\n",
    "saver = tf.train.import_meta_graph(meta_path)\n",
    "saver.restore(session, path)"
   ]
  },
  {
   "cell_type": "code",
   "execution_count": 16,
   "metadata": {},
   "outputs": [
    {
     "name": "stdout",
     "output_type": "stream",
     "text": [
      "q_func/Q_tabular\n",
      "target_q_func/Q_tabular\n",
      "q_func_1/Q_tabular\n",
      "target_q_func_1/Q_tabular\n",
      "beta1_power\n",
      "beta2_power\n",
      "q_func/Q_tabular/Adam\n",
      "q_func/Q_tabular/Adam_1\n"
     ]
    }
   ],
   "source": [
    "vs = tf.all_variables()\n",
    "for x in vs:\n",
    "    print x.op.name"
   ]
  },
  {
   "cell_type": "code",
   "execution_count": 27,
   "metadata": {
    "scrolled": true
   },
   "outputs": [
    {
     "name": "stdout",
     "output_type": "stream",
     "text": [
      "[[[  2.49997377e-01   4.99999732e-01   1.24998637e-01   2.49994680e-01]\n",
      "  [  2.49999791e-01  -2.27246685e-32   6.24948256e-02   1.24996707e-01]\n",
      "  [  1.24999858e-01   2.18785227e-32   3.12527046e-02   6.24981523e-02]\n",
      "  [  6.24999292e-02   1.83275894e-32   1.56243853e-02   3.12516540e-02]\n",
      "  [  3.12499590e-02   7.81412143e-03   1.56272128e-02   1.56219443e-02]]\n",
      "\n",
      " [[  4.99997318e-01   9.99999762e-01   2.24636588e-32   2.49997675e-01]\n",
      "  [  6.80926368e-02  -4.36309688e-02   1.37275551e-03  -5.61551563e-03]\n",
      "  [  4.59833778e-02   4.40807641e-02   4.64842282e-03   1.13448752e-02]\n",
      "  [ -2.66335718e-02  -5.94238937e-02  -1.04373647e-02   4.69046924e-03]\n",
      "  [  1.71907086e-32   3.90779274e-03   7.81346019e-03   1.56249721e-02]]\n",
      "\n",
      " [[ -3.14565897e-02  -4.26005386e-02  -5.11881076e-02   5.85232601e-02]\n",
      "  [ -1.52895655e-02  -1.31422291e-02  -3.75838615e-02   2.33247112e-02]\n",
      "  [ -4.84169349e-02  -6.38220832e-03  -2.68639959e-02   1.16070751e-02]\n",
      "  [ -1.53241539e-02  -3.54189649e-02  -8.45466857e-04   1.28499558e-02]\n",
      "  [  1.35353193e-32   1.95364328e-03   3.90829286e-03   7.81248463e-03]]\n",
      "\n",
      " [[ -1.48936389e-02   1.71238735e-05  -1.70899164e-02  -2.05036383e-02]\n",
      "  [  5.32278419e-03  -1.20534282e-02  -4.89059500e-02   1.38834678e-02]\n",
      "  [ -2.72189509e-02   1.55836192e-03   2.18727160e-02   3.86948744e-03]\n",
      "  [  3.41820195e-02  -3.70447747e-02   1.20702488e-02  -2.05443036e-02]\n",
      "  [ -9.83320347e-33   9.77120246e-04   1.95356947e-03   3.90624139e-03]]\n",
      "\n",
      " [[  5.59246018e-06   1.77736386e-08   6.07273396e-05  -5.46562260e-05]\n",
      "  [  2.11928073e-05   1.03910376e-23   2.44248513e-04  -2.56203696e-31]\n",
      "  [  1.22228477e-04   1.22099635e-04   4.88280377e-04   2.66946704e-33]\n",
      "  [  2.44493567e-04   5.72602069e-33   9.76560521e-04   5.60178674e-33]\n",
      "  [  4.88445803e-04   8.66863754e-33   9.77004762e-04   1.95312069e-03]]\n",
      "\n",
      " [[  5.64945191e-02  -4.04327735e-02  -3.81145515e-02   2.90819015e-02]\n",
      "  [ -3.51937003e-02   5.83086349e-02  -1.24085695e-02  -2.24236436e-02]\n",
      "  [  1.80608866e-33   6.10991847e-05   1.97529024e-33   2.44140247e-04]\n",
      "  [ -2.58367714e-02   5.73019497e-02  -8.04010127e-03   2.40736920e-02]\n",
      "  [  2.84175593e-02  -4.65030270e-03   1.84223820e-02   2.76662000e-02]]\n",
      "\n",
      " [[  1.12927658e-02  -3.29820253e-02   8.94714519e-03   3.97915766e-02]\n",
      "  [ -2.08370350e-02  -4.48903628e-03  -1.30546065e-02   5.54779135e-02]\n",
      "  [  6.97588398e-34   3.10255055e-05   1.64098828e-34   1.22070152e-04]\n",
      "  [ -2.02299803e-02   9.54916759e-04  -1.90753825e-02   2.02929992e-02]\n",
      "  [  1.72977243e-02  -6.24896260e-03   1.18802013e-02  -3.27918455e-02]]\n",
      "\n",
      " [[ -4.47377264e-02   1.31817507e-02   5.00020478e-03   1.90509427e-02]\n",
      "  [  7.14943409e-02   2.83343848e-02  -2.73846667e-02   3.35104875e-02]\n",
      "  [ -4.16694610e-34   3.10992691e-05   1.76399779e-34   6.10350544e-05]\n",
      "  [ -2.23426446e-02  -2.47931555e-02  -2.95357569e-03  -1.99043490e-02]\n",
      "  [  3.37990783e-02  -3.23979445e-02  -3.44240591e-02  -1.31346015e-02]]]\n"
     ]
    }
   ],
   "source": [
    "import numpy as np\n",
    "reshape=lambda x: np.reshape(x, (8, 5, 4))\n",
    "\n",
    "rapid = reshape(session.run(vs[0]))\n",
    "target = reshape(session.run(vs[1]))\n",
    "print target"
   ]
  },
  {
   "cell_type": "code",
   "execution_count": 34,
   "metadata": {},
   "outputs": [
    {
     "name": "stdout",
     "output_type": "stream",
     "text": [
      "[['D' 'L' 'L' 'L' 'L']\n",
      " ['D' 'L' 'L' 'U' 'U']\n",
      " ['U' 'U' 'U' 'U' 'U']\n",
      " ['D' 'U' 'R' 'L' 'U']\n",
      " ['R' 'R' 'R' 'R' 'U']\n",
      " ['L' 'D' 'U' 'D' 'L']\n",
      " ['U' 'U' 'U' 'U' 'L']\n",
      " ['U' 'L' 'U' 'R' 'L']]\n",
      "[[  5.00e-01   2.50e-01   1.25e-01   6.25e-02   3.12e-02]\n",
      " [  1.00e+00   6.81e-02   4.60e-02   4.69e-03   1.56e-02]\n",
      " [  5.85e-02   2.33e-02   1.16e-02   1.28e-02   7.81e-03]\n",
      " [  1.71e-05   1.39e-02   2.19e-02   3.42e-02   3.91e-03]\n",
      " [  6.07e-05   2.44e-04   4.88e-04   9.77e-04   1.95e-03]\n",
      " [  5.65e-02   5.83e-02   2.44e-04   5.73e-02   2.84e-02]\n",
      " [  3.98e-02   5.55e-02   1.22e-04   2.03e-02   1.73e-02]\n",
      " [  1.91e-02   7.15e-02   6.10e-05  -2.95e-03   3.38e-02]]\n"
     ]
    }
   ],
   "source": [
    "# decode the action meaning: left, down, right, up\n",
    "mapping = [\"L\", \"D\", \"R\", \"U\"]\n",
    "nrow = 8\n",
    "ncol = 5\n",
    "optimal_decision=np.zeros(dtype=\"c\", shape=(nrow, ncol))\n",
    "qvalue = np.zeros(dtype=np.float32, shape=(nrow, ncol))\n",
    "for i in range(nrow):\n",
    "    for j in range(ncol):\n",
    "        vec = target[i, j, :]\n",
    "        optimal_decision[i,j] = mapping[np.argmax(vec)]\n",
    "        qvalue[i,j]=np.max(vec)\n",
    "    \n",
    "print optimal_decision\n",
    "np.set_printoptions(precision=2)\n",
    "print qvalue"
   ]
  },
  {
   "cell_type": "code",
   "execution_count": 24,
   "metadata": {},
   "outputs": [
    {
     "name": "stdout",
     "output_type": "stream",
     "text": [
      "(8, 5)\n"
     ]
    }
   ],
   "source": [
    "m = [\n",
    "        \"FFFFF\",\n",
    "        \"FHHHF\",\n",
    "        \"GHHHF\",\n",
    "        \"FHHHF\",\n",
    "        \"FFFFF\",\n",
    "        \"HHFHH\",\n",
    "        \"HHFHH\",\n",
    "        \"HHSHH\",\n",
    "    ]\n",
    "m=np.array(m, dtype=\"c\")\n",
    "print m.shape"
   ]
  },
  {
   "cell_type": "code",
   "execution_count": 35,
   "metadata": {
    "collapsed": true
   },
   "outputs": [],
   "source": [
    "P={0: {0: [(1.0, 0, 0.0, False)], 1: [(1.0, 5, 0.0, False)], 2: [(1.0, 1, 0.0, False)], 3: [(1.0, 0, 0.0, False)]}, 1: {0: [(1.0, 0, 0.0, False)], 1: [(1.0, 6, 0.0, True)], 2: [(1.0, 2, 0.0, False)], 3: [(1.0, 1, 0.0, False)]}, 2: {0: [(1.0, 1, 0.0, False)], 1: [(1.0, 7, 0.0, True)], 2: [(1.0, 3, 0.0, False)], 3: [(1.0, 2, 0.0, False)]}, 3: {0: [(1.0, 2, 0.0, False)], 1: [(1.0, 8, 0.0, True)], 2: [(1.0, 4, 0.0, False)], 3: [(1.0, 3, 0.0, False)]}, 4: {0: [(1.0, 3, 0.0, False)], 1: [(1.0, 9, 0.0, False)], 2: [(1.0, 4, 0.0, False)], 3: [(1.0, 4, 0.0, False)]}, 5: {0: [(1.0, 5, 0.0, False)], 1: [(1.0, 10, 1.0, True)], 2: [(1.0, 6, 0.0, True)], 3: [(1.0, 0, 0.0, False)]}, 6: {0: [(1.0, 6, 0, True)], 1: [(1.0, 6, 0, True)], 2: [(1.0, 6, 0, True)], 3: [(1.0, 6, 0, True)]}, 7: {0: [(1.0, 7, 0, True)], 1: [(1.0, 7, 0, True)], 2: [(1.0, 7, 0, True)], 3: [(1.0, 7, 0, True)]}, 8: {0: [(1.0, 8, 0, True)], 1: [(1.0, 8, 0, True)], 2: [(1.0, 8, 0, True)], 3: [(1.0, 8, 0, True)]}, 9: {0: [(1.0, 8, 0.0, True)], 1: [(1.0, 14, 0.0, False)], 2: [(1.0, 9, 0.0, False)], 3: [(1.0, 4, 0.0, False)]}, 10: {0: [(1.0, 10, 0, True)], 1: [(1.0, 10, 0, True)], 2: [(1.0, 10, 0, True)], 3: [(1.0, 10, 0, True)]}, 11: {0: [(1.0, 11, 0, True)], 1: [(1.0, 11, 0, True)], 2: [(1.0, 11, 0, True)], 3: [(1.0, 11, 0, True)]}, 12: {0: [(1.0, 12, 0, True)], 1: [(1.0, 12, 0, True)], 2: [(1.0, 12, 0, True)], 3: [(1.0, 12, 0, True)]}, 13: {0: [(1.0, 13, 0, True)], 1: [(1.0, 13, 0, True)], 2: [(1.0, 13, 0, True)], 3: [(1.0, 13, 0, True)]}, 14: {0: [(1.0, 13, 0.0, True)], 1: [(1.0, 19, 0.0, False)], 2: [(1.0, 14, 0.0, False)], 3: [(1.0, 9, 0.0, False)]}, 15: {0: [(1.0, 15, 0.0, False)], 1: [(1.0, 20, 0.0, False)], 2: [(1.0, 16, 0.0, True)], 3: [(1.0, 10, 1.0, True)]}, 16: {0: [(1.0, 16, 0, True)], 1: [(1.0, 16, 0, True)], 2: [(1.0, 16, 0, True)], 3: [(1.0, 16, 0, True)]}, 17: {0: [(1.0, 17, 0, True)], 1: [(1.0, 17, 0, True)], 2: [(1.0, 17, 0, True)], 3: [(1.0, 17, 0, True)]}, 18: {0: [(1.0, 18, 0, True)], 1: [(1.0, 18, 0, True)], 2: [(1.0, 18, 0, True)], 3: [(1.0, 18, 0, True)]}, 19: {0: [(1.0, 18, 0.0, True)], 1: [(1.0, 24, 0.0, False)], 2: [(1.0, 19, 0.0, False)], 3: [(1.0, 14, 0.0, False)]}, 20: {0: [(1.0, 20, 0.0, False)], 1: [(1.0, 25, 0.0, True)], 2: [(1.0, 21, 0.0, False)], 3: [(1.0, 15, 0.0, False)]}, 21: {0: [(1.0, 20, 0.0, False)], 1: [(1.0, 26, 0.0, True)], 2: [(1.0, 22, 0.0, False)], 3: [(1.0, 16, 0.0, True)]}, 22: {0: [(1.0, 21, 0.0, False)], 1: [(1.0, 27, 0.0, False)], 2: [(1.0, 23, 0.0, False)], 3: [(1.0, 17, 0.0, True)]}, 23: {0: [(1.0, 22, 0.0, False)], 1: [(1.0, 28, 0.0, True)], 2: [(1.0, 24, 0.0, False)], 3: [(1.0, 18, 0.0, True)]}, 24: {0: [(1.0, 23, 0.0, False)], 1: [(1.0, 29, 0.0, True)], 2: [(1.0, 24, 0.0, False)], 3: [(1.0, 19, 0.0, False)]}, 25: {0: [(1.0, 25, 0, True)], 1: [(1.0, 25, 0, True)], 2: [(1.0, 25, 0, True)], 3: [(1.0, 25, 0, True)]}, 26: {0: [(1.0, 26, 0, True)], 1: [(1.0, 26, 0, True)], 2: [(1.0, 26, 0, True)], 3: [(1.0, 26, 0, True)]}, 27: {0: [(1.0, 26, 0.0, True)], 1: [(1.0, 32, 0.0, False)], 2: [(1.0, 28, 0.0, True)], 3: [(1.0, 22, 0.0, False)]}, 28: {0: [(1.0, 28, 0, True)], 1: [(1.0, 28, 0, True)], 2: [(1.0, 28, 0, True)], 3: [(1.0, 28, 0, True)]}, 29: {0: [(1.0, 29, 0, True)], 1: [(1.0, 29, 0, True)], 2: [(1.0, 29, 0, True)], 3: [(1.0, 29, 0, True)]}, 30: {0: [(1.0, 30, 0, True)], 1: [(1.0, 30, 0, True)], 2: [(1.0, 30, 0, True)], 3: [(1.0, 30, 0, True)]}, 31: {0: [(1.0, 31, 0, True)], 1: [(1.0, 31, 0, True)], 2: [(1.0, 31, 0, True)], 3: [(1.0, 31, 0, True)]}, 32: {0: [(1.0, 31, 0.0, True)], 1: [(1.0, 37, 0.0, False)], 2: [(1.0, 33, 0.0, True)], 3: [(1.0, 27, 0.0, False)]}, 33: {0: [(1.0, 33, 0, True)], 1: [(1.0, 33, 0, True)], 2: [(1.0, 33, 0, True)], 3: [(1.0, 33, 0, True)]}, 34: {0: [(1.0, 34, 0, True)], 1: [(1.0, 34, 0, True)], 2: [(1.0, 34, 0, True)], 3: [(1.0, 34, 0, True)]}, 35: {0: [(1.0, 35, 0, True)], 1: [(1.0, 35, 0, True)], 2: [(1.0, 35, 0, True)], 3: [(1.0, 35, 0, True)]}, 36: {0: [(1.0, 36, 0, True)], 1: [(1.0, 36, 0, True)], 2: [(1.0, 36, 0, True)], 3: [(1.0, 36, 0, True)]}, 37: {0: [(1.0, 36, 0.0, True)], 1: [(1.0, 37, 0.0, False)], 2: [(1.0, 38, 0.0, True)], 3: [(1.0, 32, 0.0, False)]}, 38: {0: [(1.0, 38, 0, True)], 1: [(1.0, 38, 0, True)], 2: [(1.0, 38, 0, True)], 3: [(1.0, 38, 0, True)]}, 39: {0: [(1.0, 39, 0, True)], 1: [(1.0, 39, 0, True)], 2: [(1.0, 39, 0, True)], 3: [(1.0, 39, 0, True)]}}"
   ]
  },
  {
   "cell_type": "code",
   "execution_count": 40,
   "metadata": {},
   "outputs": [
    {
     "name": "stdout",
     "output_type": "stream",
     "text": [
      "{0: [(1.0, 15, 0.0, False)], 1: [(1.0, 20, 0.0, False)], 2: [(1.0, 16, 0.0, True)], 3: [(1.0, 10, 1.0, True)]}\n",
      "{0: [(1.0, 5, 0.0, False)], 1: [(1.0, 10, 1.0, True)], 2: [(1.0, 6, 0.0, True)], 3: [(1.0, 0, 0.0, False)]}\n"
     ]
    }
   ],
   "source": [
    "def state_to_ij(s, nrow=8, ncol=5):\n",
    "    return (s/ncol, s%col)\n",
    "\n",
    "def to_s(row, col):\n",
    "    return row*ncol + col\n",
    "care = to_s(3, 0)\n",
    "print(P[care])\n",
    "care2=to_s(1, 0)\n",
    "print(P[care2])\n",
    "# print the intersetion\n"
   ]
  }
 ],
 "metadata": {
  "kernelspec": {
   "display_name": "Python 2",
   "language": "python",
   "name": "python2"
  },
  "language_info": {
   "codemirror_mode": {
    "name": "ipython",
    "version": 2
   },
   "file_extension": ".py",
   "mimetype": "text/x-python",
   "name": "python",
   "nbconvert_exporter": "python",
   "pygments_lexer": "ipython2",
   "version": "2.7.13"
  }
 },
 "nbformat": 4,
 "nbformat_minor": 1
}
