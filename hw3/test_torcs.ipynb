{
 "cells": [
  {
   "cell_type": "code",
   "execution_count": null,
   "metadata": {
    "collapsed": false,
    "scrolled": true
   },
   "outputs": [],
   "source": [
    "import sys, os, inspect\n",
    "sys.path.insert(0, '../../rlTORCS')\n",
    "import py_torcs\n",
    "from atari_wrappers import *\n",
    "from gym import wrappers\n",
    "from gym.envs.registration import register\n",
    "\n",
    "register(\n",
    "    id='rltorcs-v0',\n",
    "    entry_point='py_torcs:TorcsEnv',\n",
    "    kwargs={\"subtype\": \"discrete_improved\",\n",
    "            \"server\": True,\n",
    "            \"auto_back\": False,\n",
    "            \"game_config\": os.path.abspath('../../rlTORCS/game_config/quickrace_discrete_single.xml')}\n",
    ")\n",
    "\n",
    "env = gym.make(\"rltorcs-v0\")\n",
    "env2 = gym.make(\"rltorcs-v0\")\n",
    "\n",
    "env = wrap_torcs(env)\n",
    "#model_save_path = os.path.join('/tmp/torcs')\n",
    "#env = wrappers.Monitor(env, model_save_path, force=True)"
   ]
  },
  {
   "cell_type": "code",
   "execution_count": null,
   "metadata": {
    "collapsed": false
   },
   "outputs": [],
   "source": [
    "a=env.reset()\n",
    "import matplotlib.pyplot as plt\n",
    "%matplotlib inline\n",
    "obs, reward, terminal, info = env.step(1)\n",
    "imgplot = plt.imshow(np.squeeze(obs), cmap='gray')\n"
   ]
  },
  {
   "cell_type": "code",
   "execution_count": null,
   "metadata": {
    "collapsed": false
   },
   "outputs": [],
   "source": [
    "b=env2.reset()"
   ]
  },
  {
   "cell_type": "code",
   "execution_count": null,
   "metadata": {
    "collapsed": true
   },
   "outputs": [],
   "source": [
    "env.close()\n",
    "env2.close()"
   ]
  },
  {
   "cell_type": "code",
   "execution_count": null,
   "metadata": {
    "collapsed": false
   },
   "outputs": [],
   "source": [
    "env.reset()\n",
    "for i in range(10):\n",
    "    # env.step(random.randint(0, 8))\n",
    "    obs, reward, terminal, info = env.step(1)\n",
    "    if terminal:\n",
    "        env.reset()\n",
    "    # env._render()"
   ]
  },
  {
   "cell_type": "code",
   "execution_count": null,
   "metadata": {
    "collapsed": true
   },
   "outputs": [],
   "source": [
    "env2.reset()\n",
    "for i in range(10):\n",
    "    # env.step(random.randint(0, 8))\n",
    "    obs, reward, terminal, info = env2.step(1)\n",
    "    if terminal:\n",
    "        env2.reset()\n",
    "    # env._render()"
   ]
  },
  {
   "cell_type": "code",
   "execution_count": null,
   "metadata": {
    "collapsed": false
   },
   "outputs": [],
   "source": [
    "import matplotlib.pyplot as plt\n",
    "%matplotlib inline\n",
    "obs, reward, terminal, info = env.step(1)\n",
    "#imgplot = plt.imshow(np.squeeze(obs), cmap='gray')\n",
    "imgplot = plt.imshow(np.squeeze(obs))"
   ]
  },
  {
   "cell_type": "code",
   "execution_count": null,
   "metadata": {
    "collapsed": false
   },
   "outputs": [],
   "source": [
    "env.close()"
   ]
  }
 ],
 "metadata": {
  "kernelspec": {
   "display_name": "Python 2",
   "language": "python",
   "name": "python2"
  },
  "language_info": {
   "codemirror_mode": {
    "name": "ipython",
    "version": 2
   },
   "file_extension": ".py",
   "mimetype": "text/x-python",
   "name": "python",
   "nbconvert_exporter": "python",
   "pygments_lexer": "ipython2",
   "version": "2.7.13"
  }
 },
 "nbformat": 4,
 "nbformat_minor": 0
}
