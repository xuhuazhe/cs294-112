{
 "cells": [
  {
   "cell_type": "code",
   "execution_count": 3,
   "metadata": {
    "collapsed": false
   },
   "outputs": [
    {
     "name": "stdout",
     "output_type": "stream",
     "text": [
      "after allocate {0: True, 1: True, 2: True, 3: True, 4: True, 5: True, 6: True, 7: True, 8: True, 9: True, 10: True, 11: True, 12: True, 13: False, 14: False}\n",
      "{'auto_back': False, 'screen': 12, 'game_config': '/backup/yang/code/rlTORCS/game_config/quickrace_discrete_single.xml', 'use_RGB': True, 'mkey': 112, 'server': True}\n",
      ";/backup/yang/code/rlTORCS/?.lua\n"
     ]
    }
   ],
   "source": [
    "import sys, os, inspect\n",
    "sys.path.insert(0, '../../rlTORCS')\n",
    "import py_torcs\n",
    "env = py_torcs.TorcsEnv(\"discrete\",\n",
    "                    server=True,\n",
    "                    auto_back=False,\n",
    "                    game_config=os.path.abspath('../../rlTORCS/game_config/quickrace_discrete_single.xml'))"
   ]
  },
  {
   "cell_type": "code",
   "execution_count": 4,
   "metadata": {
    "collapsed": false
   },
   "outputs": [],
   "source": [
    "env.reset()\n",
    "for i in range(1000):\n",
    "    # env.step(random.randint(0, 8))\n",
    "    obs, reward, terminal, info = env.step(1)\n",
    "    if terminal:\n",
    "        env.reset()\n",
    "    # env._render()"
   ]
  }
 ],
 "metadata": {
  "kernelspec": {
   "display_name": "Python 2",
   "language": "python",
   "name": "python2"
  },
  "language_info": {
   "codemirror_mode": {
    "name": "ipython",
    "version": 2
   },
   "file_extension": ".py",
   "mimetype": "text/x-python",
   "name": "python",
   "nbconvert_exporter": "python",
   "pygments_lexer": "ipython2",
   "version": "2.7.13"
  }
 },
 "nbformat": 4,
 "nbformat_minor": 2
}
