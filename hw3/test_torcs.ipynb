{
 "cells": [
  {
   "cell_type": "code",
   "execution_count": 1,
   "metadata": {
    "collapsed": false,
    "scrolled": true
   },
   "outputs": [
    {
     "name": "stderr",
     "output_type": "stream",
     "text": [
      "[2017-06-21 15:48:41,166] Making new env: rltorcs-v0\n",
      "[2017-06-21 15:48:41,171] Making new env: rltorcs-v0\n"
     ]
    }
   ],
   "source": [
    "import sys, os, inspect\n",
    "sys.path.insert(0, '../../rlTORCS')\n",
    "import py_torcs\n",
    "from atari_wrappers import *\n",
    "from gym import wrappers\n",
    "from gym.envs.registration import register\n",
    "\n",
    "register(\n",
    "    id='rltorcs-v0',\n",
    "    entry_point='py_torcs:TorcsEnv',\n",
    "    kwargs={\"subtype\": \"discrete_improved\",\n",
    "            \"server\": True,\n",
    "            \"auto_back\": False,\n",
    "            \"game_config\": os.path.abspath('../../rlTORCS/game_config/quickrace_discrete_single.xml')}\n",
    ")\n",
    "\n",
    "env = gym.make(\"rltorcs-v0\")\n",
    "env2 = gym.make(\"rltorcs-v0\")\n",
    "#model_save_path = os.path.join('/tmp/torcs')\n",
    "#env = wrappers.Monitor(env, model_save_path, force=True)"
   ]
  },
  {
   "cell_type": "code",
   "execution_count": null,
   "metadata": {
    "collapsed": false
   },
   "outputs": [],
   "source": [
    "a=env.reset()"
   ]
  },
  {
   "cell_type": "code",
   "execution_count": 5,
   "metadata": {
    "collapsed": false
   },
   "outputs": [
    {
     "name": "stdout",
     "output_type": "stream",
     "text": [
      "initializing the first time\n",
      "after allocate {0: True, 1: True, 2: False, 3: False, 4: False, 5: False, 6: False, 7: False, 8: False, 9: False, 10: False, 11: False, 12: False, 13: False, 14: False}\n"
     ]
    }
   ],
   "source": [
    "b=env2.reset()"
   ]
  },
  {
   "cell_type": "code",
   "execution_count": null,
   "metadata": {
    "collapsed": true
   },
   "outputs": [],
   "source": [
    "env.close()\n",
    "env2.close()"
   ]
  },
  {
   "cell_type": "code",
   "execution_count": 2,
   "metadata": {
    "collapsed": false
   },
   "outputs": [
    {
     "name": "stdout",
     "output_type": "stream",
     "text": [
      "initializing the first time\n",
      "after allocate {0: True, 1: False, 2: False, 3: False, 4: False, 5: False, 6: False, 7: False, 8: False, 9: False, 10: False, 11: False, 12: False, 13: False, 14: False}\n"
     ]
    }
   ],
   "source": [
    "env.reset()\n",
    "for i in range(10):\n",
    "    # env.step(random.randint(0, 8))\n",
    "    obs, reward, terminal, info = env.step(1)\n",
    "    if terminal:\n",
    "        env.reset()\n",
    "    # env._render()"
   ]
  },
  {
   "cell_type": "code",
   "execution_count": 7,
   "metadata": {
    "collapsed": true
   },
   "outputs": [],
   "source": [
    "env2.reset()\n",
    "for i in range(10):\n",
    "    # env.step(random.randint(0, 8))\n",
    "    obs, reward, terminal, info = env2.step(1)\n",
    "    if terminal:\n",
    "        env2.reset()\n",
    "    # env._render()"
   ]
  },
  {
   "cell_type": "code",
   "execution_count": null,
   "metadata": {
    "collapsed": false
   },
   "outputs": [],
   "source": [
    "import matplotlib.pyplot as plt\n",
    "%matplotlib inline\n",
    "obs, reward, terminal, info = env.step(1)\n",
    "#imgplot = plt.imshow(np.squeeze(obs), cmap='gray')\n",
    "imgplot = plt.imshow(np.squeeze(obs))"
   ]
  },
  {
   "cell_type": "code",
   "execution_count": null,
   "metadata": {
    "collapsed": false
   },
   "outputs": [],
   "source": [
    "env.close()"
   ]
  }
 ],
 "metadata": {
  "kernelspec": {
   "display_name": "Python 2",
   "language": "python",
   "name": "python2"
  },
  "language_info": {
   "codemirror_mode": {
    "name": "ipython",
    "version": 2
   },
   "file_extension": ".py",
   "mimetype": "text/x-python",
   "name": "python",
   "nbconvert_exporter": "python",
   "pygments_lexer": "ipython2",
   "version": "2.7.13"
  }
 },
 "nbformat": 4,
 "nbformat_minor": 2
}
