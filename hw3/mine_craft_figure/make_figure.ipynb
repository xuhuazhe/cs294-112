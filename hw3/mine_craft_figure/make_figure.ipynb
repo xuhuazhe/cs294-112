{
 "cells": [
  {
   "cell_type": "code",
   "execution_count": 27,
   "metadata": {
    "collapsed": false
   },
   "outputs": [
    {
     "name": "stdout",
     "output_type": "stream",
     "text": [
      "[[b'F' b'F' b'F' b'F' b'F']\n",
      " [b'F' b'H' b'H' b'H' b'F']\n",
      " [b'G' b'H' b'H' b'H' b'F']\n",
      " [b'F' b'H' b'H' b'H' b'F']\n",
      " [b'F' b'F' b'F' b'F' b'F']\n",
      " [b'H' b'H' b'F' b'H' b'H']\n",
      " [b'H' b'H' b'F' b'H' b'H']\n",
      " [b'H' b'H' b'S' b'H' b'H']]\n"
     ]
    }
   ],
   "source": [
    "from PIL import Image\n",
    "import numpy as np\n",
    "each_size = 100\n",
    "\n",
    "m=[\n",
    "        \"FFFFF\",\n",
    "        \"FHHHF\",\n",
    "        \"GHHHF\",\n",
    "        \"FHHHF\",\n",
    "        \"FFFFF\",\n",
    "        \"HHFHH\",\n",
    "        \"HHFHH\",\n",
    "        \"HHSHH\",]\n",
    "m = np.array(m, dtype=\"c\")\n",
    "print(m)\n",
    "m = m.transpose()\n",
    "m=np.fliplr(m)\n",
    "\n",
    "image_paths={b\"F\": \"./grass.png\",\n",
    "             b\"H\": \"./lava.png\",\n",
    "             b\"S\": \"./steve.png\",\n",
    "             b\"G\": \"./goal.png\"}\n",
    "\n",
    "def process_image(path):\n",
    "    im = Image.open(path)\n",
    "    im = im.resize((each_size, each_size))\n",
    "    return im\n",
    "\n",
    "for key in image_paths:\n",
    "    image_paths[key] = process_image(image_paths[key])\n",
    "\n",
    "nrow = len(m)\n",
    "ncol = len(m[0])\n",
    "output = Image.new(\"RGB\", (ncol*each_size, nrow*each_size))\n",
    "\n",
    "for i in range(nrow):\n",
    "    for j in range(ncol):\n",
    "        output.paste(image_paths[m[i][j]], (j*each_size, i*each_size))\n",
    "\n",
    "output.save(\"minecraft.png\")"
   ]
  }
 ],
 "metadata": {
  "kernelspec": {
   "display_name": "Python [anaconda]",
   "language": "python",
   "name": "Python [anaconda]"
  },
  "language_info": {
   "codemirror_mode": {
    "name": "ipython",
    "version": 3
   },
   "file_extension": ".py",
   "mimetype": "text/x-python",
   "name": "python",
   "nbconvert_exporter": "python",
   "pygments_lexer": "ipython3",
   "version": "3.5.2"
  }
 },
 "nbformat": 4,
 "nbformat_minor": 0
}
